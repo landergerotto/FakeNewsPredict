{
 "cells": [
  {
   "cell_type": "code",
   "execution_count": 108,
   "metadata": {},
   "outputs": [
    {
     "name": "stdout",
     "output_type": "stream",
     "text": [
      "Defaulting to user installation because normal site-packages is not writeable\n",
      "Requirement already satisfied: joblib in c:\\users\\disrct\\appdata\\roaming\\python\\python311\\site-packages (1.3.2)\n"
     ]
    },
    {
     "name": "stderr",
     "output_type": "stream",
     "text": [
      "\n",
      "[notice] A new release of pip is available: 23.2.1 -> 24.0\n",
      "[notice] To update, run: python.exe -m pip install --upgrade pip\n"
     ]
    },
    {
     "name": "stdout",
     "output_type": "stream",
     "text": [
      "Defaulting to user installation because normal site-packages is not writeable"
     ]
    },
    {
     "name": "stderr",
     "output_type": "stream",
     "text": [
      "\n",
      "[notice] A new release of pip is available: 23.2.1 -> 24.0\n",
      "[notice] To update, run: python.exe -m pip install --upgrade pip\n"
     ]
    },
    {
     "name": "stdout",
     "output_type": "stream",
     "text": [
      "\n",
      "Requirement already satisfied: scikit-learn in c:\\users\\disrct\\appdata\\roaming\\python\\python311\\site-packages (1.4.1.post1)\n",
      "Requirement already satisfied: numpy<2.0,>=1.19.5 in c:\\users\\disrct\\appdata\\roaming\\python\\python311\\site-packages (from scikit-learn) (1.25.2)\n",
      "Requirement already satisfied: scipy>=1.6.0 in c:\\users\\disrct\\appdata\\roaming\\python\\python311\\site-packages (from scikit-learn) (1.11.2)\n",
      "Requirement already satisfied: joblib>=1.2.0 in c:\\users\\disrct\\appdata\\roaming\\python\\python311\\site-packages (from scikit-learn) (1.3.2)\n",
      "Requirement already satisfied: threadpoolctl>=2.0.0 in c:\\users\\disrct\\appdata\\roaming\\python\\python311\\site-packages (from scikit-learn) (3.3.0)\n",
      "Defaulting to user installation because normal site-packages is not writeable\n",
      "Requirement already satisfied: scipy in c:\\users\\disrct\\appdata\\roaming\\python\\python311\\site-packages (1.11.2)\n",
      "Requirement already satisfied: numpy<1.28.0,>=1.21.6 in c:\\users\\disrct\\appdata\\roaming\\python\\python311\\site-packages (from scipy) (1.25.2)\n"
     ]
    },
    {
     "name": "stderr",
     "output_type": "stream",
     "text": [
      "\n",
      "[notice] A new release of pip is available: 23.2.1 -> 24.0\n",
      "[notice] To update, run: python.exe -m pip install --upgrade pip\n"
     ]
    },
    {
     "name": "stdout",
     "output_type": "stream",
     "text": [
      "Defaulting to user installation because normal site-packages is not writeable\n",
      "Requirement already satisfied: nltk in c:\\users\\disrct\\appdata\\roaming\\python\\python311\\site-packages (3.8.1)\n",
      "Requirement already satisfied: click in c:\\users\\disrct\\appdata\\roaming\\python\\python311\\site-packages (from nltk) (8.1.7)\n",
      "Requirement already satisfied: joblib in c:\\users\\disrct\\appdata\\roaming\\python\\python311\\site-packages (from nltk) (1.3.2)\n",
      "Requirement already satisfied: regex>=2021.8.3 in c:\\users\\disrct\\appdata\\roaming\\python\\python311\\site-packages (from nltk) (2023.12.25)\n",
      "Requirement already satisfied: tqdm in c:\\users\\disrct\\appdata\\roaming\\python\\python311\\site-packages (from nltk) (4.66.2)\n",
      "Requirement already satisfied: colorama in c:\\users\\disrct\\appdata\\roaming\\python\\python311\\site-packages (from click->nltk) (0.4.6)\n"
     ]
    },
    {
     "name": "stderr",
     "output_type": "stream",
     "text": [
      "\n",
      "[notice] A new release of pip is available: 23.2.1 -> 24.0\n",
      "[notice] To update, run: python.exe -m pip install --upgrade pip\n"
     ]
    },
    {
     "name": "stdout",
     "output_type": "stream",
     "text": [
      "Defaulting to user installation because normal site-packages is not writeable\n",
      "Requirement already satisfied: seaborn in c:\\users\\disrct\\appdata\\roaming\\python\\python311\\site-packages (0.13.2)\n",
      "Requirement already satisfied: numpy!=1.24.0,>=1.20 in c:\\users\\disrct\\appdata\\roaming\\python\\python311\\site-packages (from seaborn) (1.25.2)\n",
      "Requirement already satisfied: pandas>=1.2 in c:\\users\\disrct\\appdata\\roaming\\python\\python311\\site-packages (from seaborn) (2.1.3)\n",
      "Requirement already satisfied: matplotlib!=3.6.1,>=3.4 in c:\\users\\disrct\\appdata\\roaming\\python\\python311\\site-packages (from seaborn) (3.7.2)\n",
      "Requirement already satisfied: contourpy>=1.0.1 in c:\\users\\disrct\\appdata\\roaming\\python\\python311\\site-packages (from matplotlib!=3.6.1,>=3.4->seaborn) (1.1.0)\n",
      "Requirement already satisfied: cycler>=0.10 in c:\\users\\disrct\\appdata\\roaming\\python\\python311\\site-packages (from matplotlib!=3.6.1,>=3.4->seaborn) (0.11.0)\n",
      "Requirement already satisfied: fonttools>=4.22.0 in c:\\users\\disrct\\appdata\\roaming\\python\\python311\\site-packages (from matplotlib!=3.6.1,>=3.4->seaborn) (4.42.1)\n",
      "Requirement already satisfied: kiwisolver>=1.0.1 in c:\\users\\disrct\\appdata\\roaming\\python\\python311\\site-packages (from matplotlib!=3.6.1,>=3.4->seaborn) (1.4.5)\n",
      "Requirement already satisfied: packaging>=20.0 in c:\\users\\disrct\\appdata\\roaming\\python\\python311\\site-packages (from matplotlib!=3.6.1,>=3.4->seaborn) (23.1)\n",
      "Requirement already satisfied: pillow>=6.2.0 in c:\\users\\disrct\\appdata\\roaming\\python\\python311\\site-packages (from matplotlib!=3.6.1,>=3.4->seaborn) (10.0.0)\n",
      "Requirement already satisfied: pyparsing<3.1,>=2.3.1 in c:\\users\\disrct\\appdata\\roaming\\python\\python311\\site-packages (from matplotlib!=3.6.1,>=3.4->seaborn) (3.0.9)\n",
      "Requirement already satisfied: python-dateutil>=2.7 in c:\\users\\disrct\\appdata\\roaming\\python\\python311\\site-packages (from matplotlib!=3.6.1,>=3.4->seaborn) (2.8.2)\n",
      "Requirement already satisfied: pytz>=2020.1 in c:\\users\\disrct\\appdata\\roaming\\python\\python311\\site-packages (from pandas>=1.2->seaborn) (2023.3.post1)\n",
      "Requirement already satisfied: tzdata>=2022.1 in c:\\users\\disrct\\appdata\\roaming\\python\\python311\\site-packages (from pandas>=1.2->seaborn) (2023.3)\n",
      "Requirement already satisfied: six>=1.5 in c:\\users\\disrct\\appdata\\roaming\\python\\python311\\site-packages (from python-dateutil>=2.7->matplotlib!=3.6.1,>=3.4->seaborn) (1.16.0)\n"
     ]
    },
    {
     "name": "stderr",
     "output_type": "stream",
     "text": [
      "\n",
      "[notice] A new release of pip is available: 23.2.1 -> 24.0\n",
      "[notice] To update, run: python.exe -m pip install --upgrade pip\n"
     ]
    }
   ],
   "source": [
    "!pip install joblib\n",
    "!pip install scikit-learn\n",
    "!pip install scipy\n",
    "!pip install nltk\n",
    "!pip install seaborn"
   ]
  },
  {
   "cell_type": "code",
   "execution_count": 109,
   "metadata": {},
   "outputs": [],
   "source": [
    "import matplotlib.pyplot as plt\n",
    "import numpy as np\n",
    "import pandas as pd\n",
    "import re\n",
    "import nltk\n",
    "import string\n",
    "from nltk.corpus import stopwords\n",
    "from nltk.stem.porter import PorterStemmer\n",
    "from sklearn.feature_extraction.text import TfidfVectorizer\n",
    "from joblib import dump, load\n",
    "from sklearn import svm\n",
    "from sklearn.ensemble import RandomForestClassifier\n",
    "from sklearn.metrics import mean_absolute_error, accuracy_score, r2_score, confusion_matrix\n",
    "from sklearn.model_selection import train_test_split, GridSearchCV, cross_val_score\n",
    "from sklearn.preprocessing import LabelEncoder, normalize"
   ]
  },
  {
   "cell_type": "code",
   "execution_count": 110,
   "metadata": {},
   "outputs": [],
   "source": [
    "stopwords = ['i', 'me', 'my', 'myself', 'we', 'our', 'ours', \n",
    "'ourselves', 'you', \"you're\", \"you've\", \"you'll\", \"you'd\", 'your', 'yours', 'yourself', \n",
    "'yourselves', 'he', 'him', 'his', 'himself', 'she', \"she's\", 'her', 'hers', 'herself', \n",
    "'it', \"it's\", 'its', 'itself', 'they', 'them', 'their', 'theirs', 'themselves',\n",
    " 'what', 'which', 'who', 'whom', 'this', 'that', \"that'll\", 'these', 'those', 'am', 'is', 'are',\n",
    " 'was', 'were', 'be', 'been', 'being', 'have', 'has', 'had', 'having', 'do', 'does', 'did', 'doing',\n",
    " 'a', 'an', 'the', 'and', 'but', 'if', 'or', 'because', 'as', 'until', 'while', 'of', 'at', 'by', 'for', \n",
    "'with', 'about', 'against', 'between', 'into', 'through', 'during', 'before', 'after', 'above', 'below', 'to', \n",
    "'from', 'up', 'down', 'in', 'out', 'on', 'off', 'over', 'under', 'again', 'further', 'then', 'once', \n",
    "'here', 'there', 'when', 'where', 'why', 'how', 'all', 'any', 'both', 'each', 'few', 'more', 'most', \n",
    "'other', 'some', 'such', 'no', 'nor', 'not', 'only', 'own', 'same', 'so', 'than', 'too', 'very', \n",
    "'s', 't', 'can', 'will', 'just', 'don', \"don't\", 'should', \"should've\", 'now', 'd', 'll', 'm', 'o', 're', 've', 'y',\n",
    " 'ain', 'aren', \"aren't\", 'couldn', \"couldn't\", 'didn', \"didn't\", 'doesn', \"doesn't\", \n",
    "'hadn', \"hadn't\", 'hasn', \"hasn't\", 'haven', \"haven't\", 'isn', \"isn't\", 'ma', 'mightn',\n",
    " \"mightn't\", 'mustn', \"mustn't\", 'needn', \"needn't\", 'shan', \"shan't\", 'shouldn', \"shouldn't\", \n",
    "'wasn', \"wasn't\", 'weren', \"weren't\", 'won', \"won't\", 'wouldn', \"wouldn't\"]\n",
    "\n",
    "contractions_dict = { \"ain't\": \"are not\",\"'s\":\" is\",\"aren't\": \"are not\",\n",
    "                     \"can't\": \"cannot\",\"can't've\": \"cannot have\",\n",
    "                     \"'cause\": \"because\",\"could've\": \"could have\",\"couldn't\": \"could not\",\n",
    "                     \"couldn't've\": \"could not have\", \"didn't\": \"did not\",\"doesn't\": \"does not\",\n",
    "                     \"don't\": \"do not\",\"hadn't\": \"had not\",\"hadn't've\": \"had not have\",\n",
    "                     \"hasn't\": \"has not\",\"haven't\": \"have not\",\"he'd\": \"he would\",\n",
    "                     \"he'd've\": \"he would have\",\"he'll\": \"he will\", \"he'll've\": \"he will have\",\n",
    "                     \"how'd\": \"how did\",\"how'd'y\": \"how do you\",\"how'll\": \"how will\",\n",
    "                     \"I'd\": \"I would\", \"I'd've\": \"I would have\",\"I'll\": \"I will\",\n",
    "                     \"I'll've\": \"I will have\",\"I'm\": \"I am\",\"I've\": \"I have\", \"isn't\": \"is not\",\n",
    "                     \"it'd\": \"it would\",\"it'd've\": \"it would have\",\"it'll\": \"it will\",\n",
    "                     \"it'll've\": \"it will have\", \"let's\": \"let us\",\"ma'am\": \"madam\",\n",
    "                     \"mayn't\": \"may not\",\"might've\": \"might have\",\"mightn't\": \"might not\", \n",
    "                     \"mightn't've\": \"might not have\",\"must've\": \"must have\",\"mustn't\": \"must not\",\n",
    "                     \"mustn't've\": \"must not have\", \"needn't\": \"need not\",\n",
    "                     \"needn't've\": \"need not have\",\"o'clock\": \"of the clock\",\"oughtn't\": \"ought not\",\n",
    "                     \"oughtn't've\": \"ought not have\",\"shan't\": \"shall not\",\"sha'n't\": \"shall not\",\n",
    "                     \"shan't've\": \"shall not have\",\"she'd\": \"she would\",\"she'd've\": \"she would have\",\n",
    "                     \"she'll\": \"she will\", \"she'll've\": \"she will have\",\"should've\": \"should have\",\n",
    "                     \"shouldn't\": \"should not\", \"shouldn't've\": \"should not have\",\"so've\": \"so have\",\n",
    "                     \"that'd\": \"that would\",\"that'd've\": \"that would have\", \"there'd\": \"there would\",\n",
    "                     \"there'd've\": \"there would have\", \"they'd\": \"they would\",\n",
    "                     \"they'd've\": \"they would have\",\"they'll\": \"they will\",\n",
    "                     \"they'll've\": \"they will have\", \"they're\": \"they are\",\"they've\": \"they have\",\n",
    "                     \"to've\": \"to have\",\"wasn't\": \"was not\",\"we'd\": \"we would\",\n",
    "                     \"we'd've\": \"we would have\",\"we'll\": \"we will\",\"we'll've\": \"we will have\",\n",
    "                     \"we're\": \"we are\",\"we've\": \"we have\", \"weren't\": \"were not\",\"what'll\": \"what will\",\n",
    "                     \"what'll've\": \"what will have\",\"what're\": \"what are\", \"what've\": \"what have\",\n",
    "                     \"when've\": \"when have\",\"where'd\": \"where did\", \"where've\": \"where have\",\n",
    "                     \"who'll\": \"who will\",\"who'll've\": \"who will have\",\"who've\": \"who have\",\n",
    "                     \"why've\": \"why have\",\"will've\": \"will have\",\"won't\": \"will not\",\n",
    "                     \"won't've\": \"will not have\", \"would've\": \"would have\",\"wouldn't\": \"would not\",\n",
    "                     \"wouldn't've\": \"would not have\",\"y'all\": \"you all\", \"y'all'd\": \"you all would\",\n",
    "                     \"y'all'd've\": \"you all would have\",\"y'all're\": \"you all are\",\n",
    "                     \"y'all've\": \"you all have\", \"you'd\": \"you would\",\"you'd've\": \"you would have\",\n",
    "                     \"you'll\": \"you will\",\"you'll've\": \"you will have\", \"you're\": \"you are\",\n",
    "                     \"you've\": \"you have\"}"
   ]
  },
  {
   "cell_type": "code",
   "execution_count": 111,
   "metadata": {},
   "outputs": [
    {
     "name": "stdout",
     "output_type": "stream",
     "text": [
      "                                               title  \\\n",
      "0  As U.S. budget fight looms, Republicans flip t...   \n",
      "1  U.S. military to accept transgender recruits o...   \n",
      "2  Senior U.S. Republican senator: 'Let Mr. Muell...   \n",
      "3  FBI Russia probe helped by Australian diplomat...   \n",
      "4  Trump wants Postal Service to charge 'much mor...   \n",
      "\n",
      "                                                text       subject  \\\n",
      "0  WASHINGTON (Reuters) - The head of a conservat...  politicsNews   \n",
      "1  WASHINGTON (Reuters) - Transgender people will...  politicsNews   \n",
      "2  WASHINGTON (Reuters) - The special counsel inv...  politicsNews   \n",
      "3  WASHINGTON (Reuters) - Trump campaign adviser ...  politicsNews   \n",
      "4  SEATTLE/WASHINGTON (Reuters) - President Donal...  politicsNews   \n",
      "\n",
      "                 date  label  \n",
      "0  December 31, 2017       0  \n",
      "1  December 29, 2017       0  \n",
      "2  December 31, 2017       0  \n",
      "3  December 30, 2017       0  \n",
      "4  December 29, 2017       0  \n"
     ]
    }
   ],
   "source": [
    "df1 = pd.read_csv('data/train.csv')\n",
    "df2 = pd.read_csv('data/True.csv')\n",
    "df3 = pd.read_csv('data/Fake.csv')\n",
    "\n",
    "df3['label'] = 1\n",
    "df2['label'] = 0\n",
    "\n",
    "print(df2.head())"
   ]
  },
  {
   "cell_type": "code",
   "execution_count": 112,
   "metadata": {},
   "outputs": [
    {
     "name": "stdout",
     "output_type": "stream",
     "text": [
      "df1 rows =  RangeIndex(start=0, stop=20800, step=1)\n",
      "df1 nulls =  id           0\n",
      "title      558\n",
      "author    1957\n",
      "text        39\n",
      "label        0\n",
      "dtype: int64\n",
      "df2 nulls =  title      0\n",
      "text       0\n",
      "subject    0\n",
      "date       0\n",
      "label      0\n",
      "dtype: int64\n",
      "df3 nulls =  title      0\n",
      "text       0\n",
      "subject    0\n",
      "date       0\n",
      "label      0\n",
      "dtype: int64\n"
     ]
    }
   ],
   "source": [
    "print(\"df1 rows = \", df1.index)\n",
    "print(\"df1 nulls = \", df1.isnull().sum())\n",
    "print(\"df2 nulls = \", df2.isnull().sum())\n",
    "print(\"df3 nulls = \", df3.isnull().sum())\n"
   ]
  },
  {
   "cell_type": "code",
   "execution_count": 113,
   "metadata": {},
   "outputs": [
    {
     "name": "stdout",
     "output_type": "stream",
     "text": [
      "df1 rows =  Index([    0,     1,     2,     3,     4,     5,     7,     9,    10,    11,\n",
      "       ...\n",
      "       20790, 20791, 20792, 20793, 20794, 20795, 20796, 20797, 20798, 20799],\n",
      "      dtype='int64', length=18285)\n",
      "df1 nulls =  id        0\n",
      "title     0\n",
      "author    0\n",
      "text      0\n",
      "label     0\n",
      "dtype: int64\n"
     ]
    }
   ],
   "source": [
    "df1.dropna(inplace=True)\n",
    "print(\"df1 rows = \", df1.index)\n",
    "print(\"df1 nulls = \", df1.isnull().sum())"
   ]
  },
  {
   "cell_type": "code",
   "execution_count": 114,
   "metadata": {},
   "outputs": [],
   "source": [
    "df1.drop('id', axis=1, inplace=True)\n",
    "df1['label'] = df1['label'].astype(int)\n",
    "df2['label'] = df2['label'].astype(int)\n",
    "df3['label'] = df3['label'].astype(int)\n"
   ]
  },
  {
   "cell_type": "code",
   "execution_count": 115,
   "metadata": {},
   "outputs": [],
   "source": [
    "df1.drop('author', axis=1, inplace=True)\n",
    "df2.drop(columns=['subject', 'date'], axis=1, inplace=True)\n",
    "df3.drop(columns=['subject', 'date'], axis=1, inplace=True)\n",
    "\n",
    "dfs = [df1, df2, df3]\n",
    "df = pd.concat(dfs)"
   ]
  },
  {
   "cell_type": "code",
   "execution_count": 116,
   "metadata": {},
   "outputs": [],
   "source": [
    "df['all'] = df['title'] + ' ' + df['text']"
   ]
  },
  {
   "cell_type": "code",
   "execution_count": 117,
   "metadata": {},
   "outputs": [],
   "source": [
    "# Como achar contractions\n",
    "contractions_re=re.compile('(%s)' % '|'.join(contractions_dict.keys()))\n",
    "\n",
    "def expand_contractions(text,contractions_dict=contractions_dict):\n",
    "  text = text.lower()\n",
    "  def replace(match):\n",
    "    return contractions_dict[match.group(0)]\n",
    "  return contractions_re.sub(replace, text)\n",
    "\n",
    "def wordopt(text):\n",
    "  text = text.lower()\n",
    "  text = re.sub('\\[.*?\\]', '', text)\n",
    "  text = re.sub(\"\\\\W\", \"\", text)\n",
    "  text = re.sub(\"https?://\\S+|www.\\.\\S+\", \"\", text)\n",
    "  text = re.sub(\"<.*?>+\", \"\", text)\n",
    "  text = re.sub(\"[%s]\" % re.escape(string.punctuation), \"\", text)\n",
    "  text = re.sub(\"\\n\", \"\", text)\n",
    "  text = re.sub(\"\\w*\\d\\w*\", \"\", text)\n",
    "  return text\n",
    "\n",
    "porter_stemmer = PorterStemmer()\n",
    "def tokenizer(df):\n",
    "    words = re.sub(r\"[^A-Za-z0-9\\-]\", \" \", df).lower().split()\n",
    "    words = [porter_stemmer.stem(word) for word in words if not words in stopwords]\n",
    "    words = ' '.join(words)\n",
    "    return words"
   ]
  },
  {
   "cell_type": "code",
   "execution_count": null,
   "metadata": {},
   "outputs": [],
   "source": [
    "df.head()\n",
    "# df1['text'] = df1['text'].apply(lambda x: x.lower())\n",
    "# df2['text'] = df2['text'].apply(lambda x: x.lower())\n",
    "# df3['text'] = df3['text'].apply(lambda x: x.lower())\n",
    "\n",
    "# df1['text'] = df1['text'].apply(lambda x: expand_contractions(x))\n",
    "# df2['text'] = df2['text'].apply(lambda x: expand_contractions(x))\n",
    "# df3['text'] = df3['text'].apply(lambda x: expand_contractions(x))\n",
    "\n",
    "# df1['text'] = df1['text'].apply(wordopt)\n",
    "# df2['text'] = df2['text'].apply(wordopt)\n",
    "# df3['text'] = df3['text'].apply(wordopt)"
   ]
  },
  {
   "cell_type": "code",
   "execution_count": 119,
   "metadata": {},
   "outputs": [],
   "source": [
    "df['feature'] = df['all'].apply(tokenizer)"
   ]
  },
  {
   "cell_type": "code",
   "execution_count": 121,
   "metadata": {},
   "outputs": [
    {
     "name": "stdout",
     "output_type": "stream",
     "text": [
      "0        hous dem aid we didn t even see comey s letter...\n",
      "1        flynn hillari clinton big woman on campu - bre...\n",
      "2        whi the truth might get you fire whi the truth...\n",
      "3        15 civilian kill in singl us airstrik have bee...\n",
      "4        iranian woman jail for fiction unpublish stori...\n",
      "                               ...                        \n",
      "23476    mcpain john mccain furiou that iran treat us s...\n",
      "23477    justic yahoo settl e-mail privaci class-act 4m...\n",
      "23478    sunnistan us and alli safe zone plan to take t...\n",
      "23479    how to blow 700 million al jazeera america fin...\n",
      "23480    10 u s navi sailor held by iranian militari si...\n",
      "Name: feature, Length: 63183, dtype: object\n"
     ]
    }
   ],
   "source": [
    "print(df['feature'])"
   ]
  },
  {
   "cell_type": "code",
   "execution_count": 129,
   "metadata": {},
   "outputs": [
    {
     "data": {
      "text/plain": [
       "array(['hous dem aid we didn t even see comey s letter until jason chaffetz tweet it hous dem aid we didn t even see comey s letter until jason chaffetz tweet it by darrel lucu on octob 30 2016 subscrib jason chaffetz on the stump in american fork utah imag courtesi michael jolley avail under a creativ commons-bi licens with apolog to keith olbermann there is no doubt who the worst person in the world is thi week fbi director jame comey but accord to a hous democrat aid it look like we also know who the second-worst person is as well it turn out that when comey sent hi now-infam letter announc that the fbi wa look into email that may be relat to hillari clinton s email server the rank democrat on the relev committe didn t hear about it from comey they found out via a tweet from one of the republican committe chairmen as we now know comey notifi the republican chairmen and democrat rank member of the hous intellig judiciari and oversight committe that hi agenc wa review email it had recent discov in order to see if they contain classifi inform not long after thi letter went out oversight committe chairman jason chaffetz set the polit world ablaz with thi tweet fbi dir just inform me the fbi ha learn of the exist of email that appear to be pertin to the investig case reopen jason chaffetz jasoninthehous octob 28 2016 of cours we now know that thi wa not the case comey wa actual say that it wa review the email in light of an unrel case which we now know to be anthoni weiner s sext with a teenag but appar such littl thing as fact didn t matter to chaffetz the utah republican had alreadi vow to initi a raft of investig if hillari win at least two year worth and possibl an entir term s worth of them appar chaffetz thought the fbi wa alreadi do hi work for him result in a tweet that briefli roil the nation befor cooler head realiz it wa a dud but accord to a senior hous democrat aid misread that letter may have been the least of chaffetz sin that aid told shareblu that hi boss and other democrat didn t even know about comey s letter at the time and onli found out when they check twitter democrat rank member on the relev committe didn t receiv comey s letter until after the republican chairmen in fact the democrat rank member didn receiv it until after the chairman of the oversight and govern reform committe jason chaffetz tweet it out and made it public so let s see if we ve got thi right the fbi director tell chaffetz and other gop committe chairmen about a major develop in a potenti polit explos investig and neither chaffetz nor hi other colleagu had the courtesi to let their democrat counterpart know about it instead accord to thi aid he made them find out about it on twitter there ha alreadi been talk on daili ko that comey himself provid advanc notic of thi letter to chaffetz and other republican give them time to turn on the spin machin that may make for good theater but there is noth so far that even suggest thi is the case after all there is noth so far that suggest that comey wa anyth other than grossli incompet and tone-deaf what it doe suggest howev is that chaffetz is act in a way that make dan burton and darrel issa look like model of respons and bipartisanship he didn t even have the decenc to notifi rank member elijah cum about someth thi explos if that doesn t trampl on basic standard of fair i don t know what doe grant it s not like that chaffetz will have to answer for thi he sit in a ridicul republican district anchor in provo and orem it ha a cook partisan vote index of r 25 and gave mitt romney a punish 78 percent of the vote in 2012 moreov the republican hous leadership ha given it full support to chaffetz plan fish expedit but that doesn t mean we can t turn the hot light on him after all he is a textbook exampl of what the hous ha becom under republican control and he is also the second worst person in the world about darrel lucu darrel is a 30-someth graduat of the univers of north carolina who consid himself a journalist of the old school an attempt to turn him into a member of the religi right in colleg onli succeed in turn him into the religi right s worst nightmare--a charismat christian who is an unapologet liber hi desir to stand up for those who have been scare into silenc onli increas when he surviv an abus three-year marriag you may know him on daili ko as christian dem in nc follow him on twitter darrelllucu or connect with him on facebook click here to buy darrel a mello yello connect',\n",
       "       'flynn hillari clinton big woman on campu - breitbart ever get the feel your life circl the roundabout rather than head in a straight line toward the intend destin hillari clinton remain the big woman on campu in leafi liber wellesley massachusett everywher els vote her most like to don her inaugur dress for the remaind of her day the way miss havisham forev wore that wed dress speak of great expect hillari rodham overflow with them 48 year ago when she first address a wellesley graduat class the presid of the colleg inform those gather in 1969 that the student need no debat so far as i could ascertain as to who their spokesman wa to be kind of the like the democrat primari in 2016 minu the term unknown then even at a seven sister school i am veri glad that miss adam made it clear that what i am speak for today is all of us the 400 of us miss rodham told her classmat after appoint herself edger bergen to the charli mccarthi and mortim snerd in attend the bespectacl in granni glass award her matronli wisdom or at least john lennon wisdom took issu with the previou speaker despit becom the first to win elect to a seat in the u s senat sinc reconstruct edward brook came in for critic for call for empathi for the goal of protestor as he critic tactic though clinton in her senior thesi on saul alinski lament black power demagogu and elitist arrog and repress intoler within the new left similar word come out of a republican necessit a brief rebutt trust rodham iron observ in 1969 thi is one word that when i ask the class at our rehears what it wa they want me to say for them everyon came up to me and said talk about trust talk about the lack of trust both for us and the way we feel about other talk about the trust bust what can you say about it what can you say about a feel that permeat a gener and that perhap is not even understood by those who are distrust the trust bust certainli bust clinton s 2016 plan she certainli did not even understand that peopl distrust her after whitewat travelg the vast conspiraci benghazi and the miss email clinton found herself the distrust voic on friday there wa a load of compromis on the road to the broaden of her polit horizon and distrust from the american peopl trump edg her 48 percent to 38 percent on the question immedi prior to novemb s elect stood as a major reason for the close of those horizon clinton describ her vanquish and hi support as embrac a lie a con altern fact and a assault on truth and reason she fail to explain whi the american peopl chose hi lie over her truth as the histori major among you here today know all too well when peopl in power invent their own fact and attack those who question them it can mark the begin of the end of a free societi she offer that is not hyperbol like so mani peopl to emerg from the 1960 hillari clinton embark upon a long strang trip from high school goldwat girl and wellesley colleg republican presid to democrat politician clinton drank in the time and the place that gave her a degre more significantli she went from idealist to cynic as a comparison of her two wellesley commenc address show way back when she lament that for too long our leader have view polit as the art of the possibl and the challeng now is to practic polit as the art of make what appear to be imposs possibl now as the big woman on campu but the odd woman out of the white hous she wonder how her current station is even possibl whi aren t i 50 point ahead she ask in septemb in may she ask whi she isn t presid the woman famous dub a congenit liar by bill safir conclud that lie did her in their mind you not her get stood up on elect day like find yourself the jilt bride on your wed day inspir danger delus',\n",
       "       'whi the truth might get you fire whi the truth might get you fire octob 29 2016 the tension between intellig analyst and polit policymak ha alway been between honest assess and desir result with the latter often overwhelm the former as in the iraq war write lawrenc davidson by lawrenc davidson for those who might wonder whi foreign polici maker repeatedli make bad choic some insight might be drawn from the follow analysi the action here play out in the unit state but the lesson are probabl univers back in the earli spring of 2003 georg w bush initi the invas of iraq one of hi key public reason for do so wa the claim that the countri s dictat saddam hussein wa on the verg of develop nuclear weapon and wa hide other weapon of mass destruct the real reason went beyond that charg and includ a long-rang plan for regim chang in the middl east presid georg w bush and vice presid dick cheney receiv an oval offic brief from cia director georg tenet also present is chief of staff andi card on right white hous photo for our purpos we will concentr on the belief that iraq wa about to becom a hostil nuclear power whi did presid bush and hi close associ accept thi scenario so readili the short answer is bush want inde need to believ it as a rational for invad iraq at first he had tri to connect saddam hussein to the 9 11 attack on the u s though he never gave up on that stratagem the lack of evid made it difficult to ralli an american peopl alreadi fixat on afghanistan to support a war against baghdad but the nuclear weapon gambit prove more fruit not becaus there wa ani hard evid for the charg but becaus supposedli reliabl wit in the person of exil anti-saddam iraqi mani on the u s govern s payrol kept tell bush and hi advis that the nuclear stori wa true what we had wa a u s leadership cadr whose worldview liter demand a mortal danger iraq and inform who in order to precipit the overthrow of saddam were will to tell the tale of pend atom weapon the strong desir to believ the tale of a nuclear iraq lower the threshold for proof likewis the repeat assert by assum depend iraqi sourc underpin a nationwid u s campaign gener both fear and war fever so the u s and it alli insist that the unit nation send in weapon inspector to scour iraq for evid of a nuclear weapon program as well as chemic and biolog weapon that the inspector could find no convinc evid onli frustrat the bush administr and soon forc it hand on march 19 2003 bush launch the invas of iraq with the expect wa that onc in occup of the countri u s inspector would sure find evid of those nuke or at least stockpil of chemic and biolog weapon they did not their iraqi inform had systemat lie to them social and behavior scienc to the rescu the variou u s intellig agenc were thoroughli shaken by thi affair and today 13 year later their director and manag are still tri to sort it out specif how to tell when they are get true intellig and when they are be lie to or as one intellig worker ha put it we need help to protect us against armi of snake oil salesmen to that end the cia et al are in the market for academ assist ahm chalabi head of the iraqi nation congress a key supplier of iraqi defector with bogu stori of hidden wmd a partnership is be forg between the offic of the director of nation intellig odni which serv as the coordin center for the sixteen independ u s intellig agenc and the nation academi of scienc engin and medicin the result of thi collabor will be a perman intellig commun studi board to coordin program in social and behavior scienc research that might strengthen nation secur despit thi effort it is almost certain that the social and behavior scienc cannot give the spi agenc what they want a way of detect lie that is better than their present standard procedur of polygraph test and interrog but even if they could it might well make no differ becaus the real problem is not to be found with the liar it is to be found with the believ the believ it is simpli not true as the odni leader seem to assert that u s intellig agenc personnel cannot tell more often than not that they are be lie to thi is the case becaus there are thousand of middle-echelon intellig worker desk offic and specialist who know someth close approach the truth that is they know pretti well what is go on in place like afghanistan iraq syria libya israel palestin and elsewher director of nation intellig jame clapper right talk with presid barack obama in the oval offic with john brennan and other nation secur aid present photo credit offic of director of nation intellig therefor if someon feed them snake oil they usual know it howev have an accur grasp of thing is often to no avail becaus their superior those who got their appoint by accept a pre-structur worldview have differ criterion for what is true than do the analyst listen to charl gaukel of the nation intellig council yet anoth organ that act as a meet ground for the 16 intellig agenc refer to the search for a way to avoid get taken in by lie gaukel ha declar we re look for truth but we re particularli look for truth that work now what might that mean i can certainli tell you what it mean histor it mean that for the power broker truth must match up fit with their worldview their polit and ideolog precept if it doe not fit it doe not work so the intellig specialist who send their usual accur assess up the line to the polici maker often hit a roadblock caus by group think ideolog blinker and a we know better attitud on the other hand as long as what you re sell the leadership match up with what they want to believ you can peddl them anyth imaginari iraqi nuke israel as a western-styl democraci saudi arabia as an indispens alli libya as a liber countri bashar al-assad as the real roadblock to peac in syria the strateg defens initi sdi aka star war a world that is get colder and not warmer american exception in all it glori the list is almost endless what doe thi sad tale tell us if you want to spend million of dollar on social and behavior scienc research to improv the assess and use of intellig forget about the liar what you want to look for is an antidot to the narrow-minded of the believ the policymak who seem not to be abl to rise abov the ideolog presumpt of their class presumpt that underpin their self-confid as they lead us all down slipperi slope it ha happen thi way so often and in so mani place that it is the sourc of shakespear s determin that what is past is prelud our elit play out our destini as if they have no free will no capac to break with structur way of see yet the middle-echelon specialist keep send their rel accur assess up the ladder of power hope spring etern',\n",
       "       ...,\n",
       "       'sunnistan us and alli safe zone plan to take territori booti in northern syria patrick henningsen 21st centuri wirerememb when the obama administr told the world how it hope to identifi 5 000 reliabl non-jihadist moder rebel hang out in turkey and jordan who might want to fight for washington in syria after all the drama over it infam train and equip program to creat their own arab armi in syria they want to give it anoth tri thi week pentagon offici announc their new plan to train up to 7 000 more moder fighter but thi time the project would take place insid syria and to hell with intern law we re told that thi wa request by ankara and with all nato alli sing the same hymn claim that thi new effort will help in secur turkey s porou border with syria or so the stori goe washington s polit cover for thi is fashion from the popular post-pari theme to protect civil europ from invad hord and the terrorist who hide among them as state in the wall street journal the program would address part of the tens and long-run dialogu between washington and ankara over seal the border which western govern have long complain is an avenu for extremist to leav syria and travel intern the time of thi announc seem uncanni against the backdrop of an unlik isi suicid bomb terrorist attack in turkey of all place where the victim just happen to be 14 german tourist feed perfectli into europ s new binari fear set of terror and immigr shade of gladio undoubtedli but you won t see western journalist entertain such conspiraci theori our friend at nation builder inc are bank on the global public suffer from syria fatigu but now is the time to realli pay attent the west s real agenda for the region is start to unfold despit all of us-l coalit s scandal lie epic failur fals flag and offici conspiraci theori the mainstream narr on syria persist it s on our tv screen and in our newspap constantli from lo angel to london from pari to riyadh everi politician and pundit seem to have an opinion about what to do with syria everyon except the syria peopl themselv who like the peopl of iraq libya afghanistan yemen and ever other countri that s found itself under the cleaver of western interest are never afford ani say in their own destini as is tradit in washington london and pari the onli syrian voic which count are the one who have been hand-pick by western technocrat and approv by the saudi royal famili to form their ever-chang recogn government-in-exil the syrian nation council current that could be riad hijab georg sabra or khale khoja next week it could be three other depend on who ha fallen in or out of favor with washington or riyadh to anyon who wa listen close enough earli on in the conflict you would have heard determin member of the western-back syrian opposit admit how they would make a deal with the devil if that s what it take to win power four year later we now see that is exactli what happen but whether you believ that thi devil is us-l coalit or terrorist armi fight group or both might be caus for debat other will argu over which is the bigger devil is it the wahabist-salafist terrorist brigad like al nusra front and islam state or is it the west and it gcc partner the unfortun realiti is that these two devil are not mutual exclus the west and it partner not onli creat thi terror crisi but did so with the intent of unveil a grand solut to the problem plan a-zth terrorist enclav in syria is design for purpos to implant a hostil metastasi right in the middl of the veri territori which neocoloni power plan to tear away from the bare sovereign nation of iraq and syria sinc 2011 the western-l cartel ha deploy variou level of intern subterfug in syria start with plan a the arab spring method ignit a popular street upris that might captur the world s attent for 15 minut enough to gener some high-qual evoc imageri and a social media storm to carri meme of liberti around the globe inspir the peopl on the street and on twitter to demand chang their cri for freedom would then be back up by the us state depart along with it functionari at human right watch and amnesti intern america and other open societi institute-fund ngo and human right organ obvious thi did not work next plan b the polit opposit suddenli transcend into an arm paramilitari opposit follow by brutal violenc and kill on both side the us and it alli wast no time pledg weapon train cash and logist support to the arm opposit the west set up it own parallel govern for syria abroad but it fail to gain ani traction with the syria peopl then came plan c thi opposit would be quickli overrun and absorb into a massiv array of mostli foreign jihadi and mercenari soldier of misfortun and other assort terrorist thi fed into an alreadi establish war on terror western narr now the west had a familiar entri point into the fight the washington-london-paris-tel-aviv-riyadh-doha-ankara axi hope that these terrorist would do the job of overthrow the govern of bashar al assad in damascu and collaps the countri into a spiral pit of sectarian and tribal chao who could blame them after all it work in libya in late 2011 fast forward to 2016 have fail to overthrow assad and implod the nation-st of syria the men and women of nation builder inc and their muscl in brussel nato are quickli move to plan d take territori that s not to say plan a through d weren t alway in the schemat they certainli were and further back than mani peopl would dare to specul we now know from wikileak cabl that thi oper goe back to at least 2006 but in realiti it s probabl much earlier than that take the long view of histori and the audaci build and rebuild of a euro-centr empir in the middl east one could say the process began the day the sykes-picot agreement wa sign in 1916 conceal between those post-coloni line drawn exactli 100 year ago wa the latent potenti for the veri conflict and uncivil war we are see today if those border are redrawn onc again you can be certain that they will be drawn by the veri same power involv a centuri ago whatev the arrang it will be to weaken not strengthen the region and certainli not strengthen ani of the present nation state in the region especi syria proprietari power will want ani new state to be stuck in a perpetu state of neocoloni depend with an emphasi on financi and secur depend mice and men21wir wa one of the first news sourc to warn about washington s initi impuls back in 2014 when it began call for a no fli zone in northern syria it wa clear that a problem reaction solut dialect wa in play with isi be the object of the public s reaction that plan might have come to fruition in the fall of 2015 but a funni thing happen on the way to the un gener assembl in new york citi later that week russia announc that it would be insert itself and it air forc into the syrian quagmir and with that thwart ani master plan for a us-turkey nato control no fli zone along the turkish-syrian border suffic to say that russia alreadi knew nato s next move and act accordingli and with purpos when ask two day ago about the prospect of the washington dc latest brainchild train and equip 2 0 thi time insid syria here were my initi thought we now know whi and it ha more to do with what s beneath the sand than what s on top as ani good pirat will tell you if you want to claim your share of the booti you have to do your share of the kill the truth about train and equip the previou train and equip program end with washington s militari brass parad in front of the senat arm servic committe befor be roundli lambast for fail to train even a hand of moder rebel thi after be award 500 million by the us taxpay to get er done when origin announc amid much fanfar the public were told that the us govern in conjunct with the cia would be arm and train moder milit in turkey jordan or at a base in saudi arabia befor send them to fight insid syria washington claim that these new traine were meant to fight isi and not the syrian govern forc but judg by the unwav regim chang rhetor from the west it would be highli naiv to think that all thi wa strictli for isi nine month into the train and equip project us armi gen lloyd austin iii acknowledg in sept 2015 that they had onli manag to get four or five on the battlefield by then not one member of the media challeng thi statement probabl becaus most were happi with the answer given one which gave ani hawkish critic of the obama administr the pound of flesh they want and serv to onli intensifi more call befor the new year for us boot on the ground in syria dove love it becaus it seem to prove that back proxi doesn t work and that the best solut wa to call it quit for the sanguin mainstream media it served-up that all-too familiar govern narr of a cock-up not a cover-up thi is the media s natur default posit in other word well it didn t work out but that s noth new with our incompet govern noth to see here move along to ask how the money disappear or realli inquir into how it cost 500 million to train onli five men appar wa way too much work for the media not one journalist stop to ask if onli 5 fighter were train and dispatch then what happen to the half a billion dollar the real answer to that question should be self-evid to anyon studi report on the ground in syria and is way too uncomfort for the us media to stomach that the us train and equip program provid the necessari offici cover to allow the prosecut of a dirti war under the tabl it wasn t a failur like fall guy gen lloyd austin will have you believ it wa a success judg by the prolifer of heavi weaponri and other lethal arm that have made it into the hand of al qaeda in syria al nusra front isi jaysh al islam and other it s clear that uncl sam s gener donat of 500 million ha definit been use to equip if not train those rebel in syria middl east comment and analyst sharmin narwani explain the west s perenni dilemma when tri to identifi who their moder are in syria for year washington ha insist there are arm moder group in syria but have gone to great length to avoid name these moder whi becaus if moder were name and identifi the us would have to be veri veri certain that no past present or futur atroc video would surfac to prove otherwis and the us could not guarante thi with ani of the group they have arm train or financ in syria over the past five year the next train and equip round will be more focus and will be use to secur the follow the map abov is from juli 2015 but still repres the current militari chessboard in syria safe zone sunnistan somehow it feel like 1998 all over again with bad memori of the kla in kosovo import jihadist fighter in bosnia and nato lord over a newli balkan region when you hear us offici like john mccain or clueless republican presidenti candid like marco rubio or carli fiorina all crow for a safe zone in northern syria thi is what they are refer to see map abov their safe zone just so happen to be in the exact same area where isi is current hold court it s a safe zone alright but not for refuge and syrian flee the evil bashar al assad rather the safe zone will be for an array of rebel and terrorist fighter part of a defacto sunni state-lett in wait so the us-l coalit s safe zone is the veri caliph that american are decri for anyon requir proof that such a grand chessboard is in play in syria they need look no further than a set of us airstrik that took place befor christma on decemb 6 2015 us fighter bomber struck a syrian militari base locat in the villag of ayyash in deir ezzor provinc east of raqqa which kill 3 syrian arab armi saa soldier and wound addit other natur the pentagon swiftli deni that ani such attack took place what happen after thi incid wa extrem tell as explain by global affair analyst mike whitney from counterpunch magazin it s also worth note that accord to south front militari analysi the us bomb raid coincid with a a full-scal isi offens on the villag of ayyash and bgelia in other word the us attack provid suffici air-cov for isi terrorist to carri out their ground oper wa that part of the plan or wa it mere a coincid so the us air forc wa coordin with isi boot on the ground to achiev a common militari object but it didn t end there less than 24 hour after the attack us warplan bomb the villag of al-khan in north-eastern syria kill 26 syrian civilian includ at least four women and seven children and four women the messag the us militari is send with these lethal attack is that it want to control the air-spac over east syria where it plan to remov isi and establish a de facto sunni state consist with it scheme to break syria and iraq into smaller canton govern by local warlord islam fanat and us puppet also take place at the same moment on dec 6th wa turkey s quiet littl invas into northern iraq send hundr of troop and at least 20 tank into territori north of mosul right between the kurd and isi it should be note that thi illeg incurs by nato member turkey wa not approv by the iraqi govern in baghdad and iraqi pm haider al-abadi call for turkey to immedi withdraw it troop judg by washington s silenc on the matter it s obviou that the us gave turkey it full bless here zero hedg astut point out the obviou most importantli of all right on what al-arabi al-jade claim is the smuggl rout for illeg isi crude into turkey from iraq not surprisingli turkey s sudden move also came at the same time that russia began to publicli expos turkey s clandestin role in facilit the isi oil trade as well as launch airstrik to destroy isi oil convoy move from syria into turkey and then turkish leader recep tayyip erdo an photo left place hi militari asset at the veri locat where stolen isi oil make it way from iraq into turkey hardli a coincid make no mistak both end of nato s militari axl the unit state and turkey along with their saudi-back boot on the ground in isi and al nusra have each made critic strateg move in unison and with a specif militari purpos each time nudg toward secur territori onc each key piec is final in posit all that is requir is a new crisi either in the region or in europ or in america to allow the axi power to move in quickli and take what is need to implement the next phase of the game whether that s creat a kurdish canton or a sunni state-lett such move will rare be cover by the western intern media to be perfectli clear the term sunni and shia are the favor sectarian lexicon use by nation builder inc and it intern partner in riyadh and tel aviv my intent here is not to reduc the muslim world down to thi paradigm but the architect of instabl will use these term over and over in their attempt to both margin and dehuman muslim for their own selfish end what s the safe zone for as the us-l coalit step up it 18 month-long punch n judi air oper to supplant isi from raqqa those western-back jihadi will later requir a safe corridor to flee but still remain connect to their turkish suppli line washington s safe zone would also provid a much-need safe haven for rebel who have been sent pack by the syrian govern from town like hom and other as part of a painstak disarm and reconcili process between the assad govern and opposit rebel who are will to particip in the program onc the nato-gcc axi ha establish a mini protector insid of syria thi will provid everyth isi al nusra ahrar al-sham turkmen et all will need a secur launch pad for incurs further insid syria which will certainli guarante a longer protract conflict in syria and beyond thi littl sunni wedg is also conveni locat next to a larg rebel-terrorist conting in syria s northwestern idlib governor provinc syria s border with turkey ha been porou from the begin of the conflict so the propos safe zone will allow turkey to maintain thi statu quo where it ha been continu allow the free-flow of weapon rebel and terrorist fighter alik along with oil narcot and human traffick to move freeli through it southern border with syria if regim chang rhetor is anyth to go by along with turn a blind eye to nato member turkey s role in facilit suppli line and safe passag for al qaeda and isi then washington s agenda is fairli transpar here if they can establish a intern recogn safe zone and a no-fli zone on top of it central planner believ they will have the platform they need to eventu destroy damascu instal their own western puppet and then carv up syria and northern iraq accordingli isi rat-lin black market oil ha been a key compon to carri on both conflict in syria and iraq for the architect of instabl in washington one crucial benefit of carv out sunni territori in both northern and eastern syria is that avail oil will help fund all of their paramilitari and terrorist need make it sustain to guarante thi uninterrupt incom stream from black market oil which is present make it way out of syria and into turkey and via kurdistan help is requir from the kurdish region govern krg and other stakehold includ the british-turkish firm genel energi just one firm who is provid the end-run to market for illicit isi oil ditto for a key mover and shaker in raqqa s new rockefel class bilal erdogan the son of turkish presid who accord to numer recent report ha alreadi amass a small fortun from the lucr oil-for-terror trade thi is a problem but one which washington london and pari are not overli concern with much less upset about iraqi kurdish and turkish opposit offici have accus turkish govern and the krg of deliber allow some of these smuggl oper to take place even as provision state-lett and canton are conjur around it there is no guarante that greater kurdistan will ever see the light of day if nation builder inc have anyth to say bout it the promis of greater kurdistan is as import to neocolonialist than the realiti of a greater kurdistan turkey also ha it own interest and ambit and a greater kurdistan is not compat with them iraq is not crazi about the idea either becaus of obviou financi and energi resourc reason so they remain in limb indefinit even as smaller quasi-kurdish entiti sprout up around the krg turkey ha it own ongo kurdish problem within turkish border so ankara will natur view ani express of kurdish autonomi around it as a threat and potenti inspir for intern kurdish solidar rule over the kurd mean keep them divid and play them off against their neighbor there are those within the turkish establish who believ there are old score still unsettl in reclaim turk territori in both syria and iraq see also special report isi oil follow the money back to europ here is where sunnistan proper can emerg come into it own onc set piec are in place in iraq and across kurdistan as mike whitney explain so it look like an agreement ha been struck between turkey the krg and the unit state to seiz part of northern iraq and eastern syria to creat a de facto sunni state that will be jointly-control by ankara and washington it also look like obama ha agre to use dodgi jihadi-proxi aka terrorist to work alongsid us special forc to carri out futur militari oper so while the effort to remov assad ha been temporarili put on the backburn the determin to destroy syria is as strong as ever anoth dismemb part of old syria and iraq which central planner are hope to hack-off is an area call rojava see map abov or western kurdistan thi region in northern syria formerli known as syrian kurdistan gain it autonomi in novemb 2013 as part of the ongo rojava revolut the kurdish defens forc here are known as the ypg peopl s defens unit and are not on friendli foot with neighbor turkey for a number of reason not least of all becaus ypg defens forc present resist to both al nusra and isi encroach into all three rojava canton for turkey thi is bad for busi how rojava will factor into washington s plan is not clear yet but it occupi the most strateg squar on the chessboard make no mistak the histori s actor are all in for thi plan do not be fool by talk of peac and stabil or humanitarian platitud from western leader the un or the fair weather intern commun anoth indic that these plan have the full back of the neoconserv illiterati and israel too wa pnac walru and former us ambassador to the un john bolton s recent articl in the establish s daili journal of polit poster the new york time where he state today s realiti is that iraq and syria as we have known them are gone the islam state ha carv out a new entiti from the post-ottoman empir settlement mobil sunni opposit to the regim of presid bashar al-assad and the iran-domin govern of iraq also emerg after year of effort is a de facto independ kurdistan central planner will happili frame thi geopolit scenario within the prefer theme of sunni vs shia sectarian strife in the region which just happen to suit the interest and desir of both saudi arabia and israel bolton confirm thi if in thi context defeat the islam state mean restor to power mr assad in syria and iran s puppet in iraq that outcom is neither feasibl nor desir rather than strive to recreat the post-world war i map washington should recogn the new geopolit the best altern to the islam state in northeastern syria and western iraq is a new independ sunni state not so fast mr ambassador the islam state is the sunni state so for all intent and purpos he s call for the establish of the caliph funni how thi goe right over the head of conserv thi is just one of mani geostrateg move which will guarante instabl and militari conflict in the region for anoth 100 year as well as provid a time entr e through to azerbaijan and into iran and later toward the eurasian heartland of dagestan russia s emerg energi center and geograph underbelli in the meantim expect to be pelt with endless propaganda about starv children in one town or anoth chang week to week with the usual slogan like we must act now and blame bashar al assad for the suffer of hi peopl it s alreadi wear thin until the us and it nato-gcc axi stop flood syria and the region with weapon and terrorist fighter and continu it polici of toppl secular nation-st then ani attempt at hold peac talk will end up back at squar one and stand as anoth exercis in futil if the syrian conflict ha been good for one thing and that s not to say it ha it s that the script western narr in all of it variat ha final hit the wall of truth author patrick henningsen is a writer lectur and global affair analyst for intern tv and radio he is also the founder and co-editor of 21stcenturywir com read more syria news at 21st centuri wire syria file',\n",
       "       'how to blow 700 million al jazeera america final call it quit 21st centuri wire say al jazeera america will go down in histori as one of the biggest failur in broadcast media histori ever sinc the us and it alli began plot to overthrow libya and syria al jazeera ha deterior from a promis intern news network in 2003 into what it ha becom in 2016 a full-blown agit prop media shop for the us state depart and the pentagon in fact us militari central command centcom for the middl east region is locat in qatar s capit of doha conveni locat just down the road from al jazeera s headquart nice and cozi al jazeera s role in promot regim chang and the destabl of syria is now record histori as are it mani shame exhibit of media fakeri the qatari royal tri to expand propaganda oper into north america but no matter how much money they threw at it and those royal just love throw money at thing to tri and get them to work no one care about it much less watch it i know thi will be a massiv disappoint for everyon here who ha work tirelessli for our long-term futur the decis that ha been made is in no way becaus ajam ha done anyth but a great job read a compani email from ceo al anstey obtain by politico inde they tri everyth it seem just short of pay american to watch their program al jazeera america to close down http t co emfjbw9uc1 pic twitter com hdea8ujtpt al jazeera america ajam januari 13 2016in 2012 the qatari-own al jazeera purchas current tv from al gore for an inflat 500 million wait it get wors money for noth gore got fat off the ajam deal in addit to the 500 million which doha blew on buy gore s lemon current tv the qatari have spent at least 50 million per year between 2012 2015 along with mani million spent on advertis ajam on other network slot onlin ad along with billboard and print media promot thi wa the qatari easi ticket on to us cabl and satellit network boy did gore pull a fast one there in total you would be look at 700 million for the whole parti at it apex ajam would be lucki to pull in 30 000 viewer dure prime time which realli amount to a noth market share with all that money and consid the hundr of staff and media execut and produc they employ it s safe to say that someon s did not have a clue what they were do what a coloss joke on the bright side the qatari can alway blame the collaps in oil price for their lack of spare cash to fund their propaganda mill read more mainstream media epic fail at 21st centuri wire msm watch',\n",
       "       '10 u s navi sailor held by iranian militari sign of a neocon polit stunt 21st centuri wire say as 21wire predict in it new year s look ahead we have a new hostag crisi underway today iranian militari forc report that two small riverin u s navi boat were seiz in iranian water and are current be held on iran s farsi island in the persian gulf a total of 10 u s navi personnel nine men and one woman have been detain by iranian author navi stray u s navi patrol boat in the persian gulf imag sourc usni accord to the pentagon the initi narr is as follow the sailor were on a train mission around noon et when their boat experienc mechan difficulti and drift into iranian-claim water and were detain by the iranian coast guard offici ad the stori ha sinc been slightli revis by white hous spokesman josh earnest to follow thi narr the 2 boat were travel en rout from kuwait to bahrain when they were stop and detain by the iranian accord to usni search and rescu team from the harri s truman strike group were scrambl to aid the crew but stop short after the crew wa taken by the iranian we have been in contact with iran and have receiv assur that the crew and the vessel will be return promptli pentagon spokesman peter cook told ap accord to persian gulf tv farsi island is one of the iranian island in the persian gulf bushehr provinc of iran there is an irgc navi base on thi island the island ha an area of about 0 25 km and is complet restrict to public due to top secret government activ accord to nbc news u s state depart is in touch with tehran offici and the iranian recogn that the u s navi stray off cours wa a mistak and that the sailor will be releas within hour war inc cnn s wolf blitzer wast no time in ramping-up talk of militari tension with israeli-financ neocon senat tom cotton neocon stuntalreadi the u s media includ cnn and fox are run with the talk point that thi could not have come at a wors time for presid obama right befor tonight s state of union speech when he s tri to prove to the american peopl that iran is a countri that can be trust to implement the histor nuclear deal thi latest naval controversi also come day befor the implement phase of the iran nuclear deal to say thi is a coincid might be naiv that said could gop and israel-align member of the pentagon or intellig establish have help to engin today s bizarr mini-crisi in order to help weaken u s -iran relat and by extens obama s controversi iranian nuclear deal thi look like to be the case as evidenc by the quick appear of the israel lobby-sponsor pro-war u s senat tom cotton r place by cnn to direct aggress u s militari talk point live on air as the stori broke today cotton photo left immedi call the event hostil and blame iran for the u s boat drift into iranian water and then blame the crisi on presid obama who he claim ha embolden the iranian aggress cotton then goe on to tell a giant lie on which hi media handler cnn s wolf blitzer doe not even blink much less challeng cotton s imaginari statement the iranian who are larg respons for kill our american soldier in iraq and afghanistan cotton then went on to threaten iran say that these sailor and both vessel need to be immedi releas if they are not releas then the iran nuclear deal should not go forward and militari forc will be on the tabl to retali for thi act of aggress cotton then proceed to give a veil nuclear threat to iran say that all militari option should be on the tabl would washington s top oper go so far as to engin or exacerb an intern crisi such as thi by dispatch the boat off cours know full-wel that iran would not harm u s personnel but use the incid to injur a lame duck the answer is ye and they ve done it befor in 1979 52 american diplomat and citizen were held hostag for 444 day in what becam known as the iranian hostag crisi which just happen to take place dure a us presidenti elect cycl with then presid jimmi carter d run for reelect against challeng ronald reagan r the crisi includ a horrif fail rescu attempt wa use against carter in the media accord to report at the time reagan campaign oper had manag to do a backdoor deal with the element of the new iranian regim to hold-off releas the hostag until after the elect in the end reagan won and took credit for that victori not surprisingli at the end of hi prearrang cnn segment cotton invok the feckless foreign polici of jimmi carter which caus the 1979 iran hostag crisi and compar that to presid obama s current polici of all the u s offici cnn could have brought in on short notic they chose senat tom cotton the most hawkish and closest align to israel clearli thi look like a neocon stunt stay tune for more updat read more iran news at 21st centuri wire iran file'],\n",
       "      dtype=object)"
      ]
     },
     "execution_count": 129,
     "metadata": {},
     "output_type": "execute_result"
    }
   ],
   "source": [
    "#MODELOS HOLY MOLY\n",
    "Y = df['label'].values\n",
    "X = df['feature'].values\n",
    "X"
   ]
  },
  {
   "cell_type": "code",
   "execution_count": 130,
   "metadata": {},
   "outputs": [],
   "source": [
    "vectonizer = TfidfVectorizer()\n",
    "vectonizer.fit(X)\n",
    "X = vectonizer.transform(X)"
   ]
  },
  {
   "cell_type": "code",
   "execution_count": 131,
   "metadata": {},
   "outputs": [],
   "source": [
    "X_train, X_test, Y_train, Y_test = train_test_split(X, Y, test_size=0.15, stratify=Y, random_state=42)"
   ]
  },
  {
   "cell_type": "code",
   "execution_count": 132,
   "metadata": {},
   "outputs": [],
   "source": [
    "#TOMA ESSE LEARNING\n",
    "SVC = GridSearchCV(\n",
    "    svm.SVC(),\n",
    "    {\n",
    "    'kernel': ['linear', 'poly', 'rbf', 'sigmoid'],\n",
    "    'C': list(map(lambda x: x, range(1, 10))),\n",
    "    'gamma' : ['auto', 'scale'],\n",
    "    'degree': list(map(lambda x: x, range(1, 5)))\n",
    "    # 'tol': list(map(lambda x: 1e-x, range(1, 5)))\n",
    "    },\n",
    "    n_jobs = 8\n",
    ")"
   ]
  },
  {
   "cell_type": "code",
   "execution_count": 136,
   "metadata": {},
   "outputs": [],
   "source": [
    "SVC.fit(X_train, Y_train)\n",
    "print(SVC.best_params_)\n",
    "\n",
    "SVC = SVC.best_estimator_\n",
    "Ypred = SVC.predict(X)\n",
    "print(mean_absolute_error(Y, Ypred))"
   ]
  },
  {
   "cell_type": "code",
   "execution_count": null,
   "metadata": {},
   "outputs": [],
   "source": []
  }
 ],
 "metadata": {
  "kernelspec": {
   "display_name": "Python 3",
   "language": "python",
   "name": "python3"
  },
  "language_info": {
   "codemirror_mode": {
    "name": "ipython",
    "version": 3
   },
   "file_extension": ".py",
   "mimetype": "text/x-python",
   "name": "python",
   "nbconvert_exporter": "python",
   "pygments_lexer": "ipython3",
   "version": "3.11.4"
  },
  "orig_nbformat": 4
 },
 "nbformat": 4,
 "nbformat_minor": 2
}
